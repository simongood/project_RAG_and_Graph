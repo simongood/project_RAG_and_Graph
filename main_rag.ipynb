{
 "cells": [
  {
   "cell_type": "code",
   "execution_count": 14,
   "metadata": {},
   "outputs": [],
   "source": [
    "# 初始化環境\n",
    "from rag_to_vector_db_pinecone.rag_pipeline.file_2_text import file_2_text\n",
    "from rag_to_vector_db_pinecone.rag_pipeline.text_2_chunks import text_2_chunks\n",
    "from rag_to_vector_db_pinecone.rag_pipeline.chunks_embeding_2_vector_db import (\n",
    "    jina_embedding,\n",
    "    embeddings_2_vector_db\n",
    ")\n",
    "\n",
    "import json\n",
    "from pinecone import Pinecone, ServerlessSpec\n",
    "# 載入 env 設定\n",
    "with open('env.json', 'r', encoding='utf-8') as file:\n",
    "    config = json.load(file)\n",
    "\n",
    "# 初始化 Pinecone gRPC 客戶端\n",
    "    pc = Pinecone(api_key=config['pinecone_api_key'])\n",
    "    index = pc.Index(\"rag-vector-db-test\")"
   ]
  },
  {
   "cell_type": "code",
   "execution_count": null,
   "metadata": {},
   "outputs": [],
   "source": [
    "# 使用者輸入查詢 pinecone\n",
    "def query_pincone(query, config):\n",
    "    query_embedding = jina_embedding(query, config)\n",
    "    results = index.query(\n",
    "        vector=query_embedding,\n",
    "        top_k=3,\n",
    "        include_metadata=True\n",
    "    )\n",
    "\n",
    "    matches = results['matches']\n",
    "    # 用 id 匹配資料庫文字\n",
    "    with open('data/chunks.json', 'r', encoding='utf-8') as file:\n",
    "        chunks = json.load(file)\n",
    "\n",
    "    match_chunks_data = []\n",
    "    for match in matches:\n",
    "        for chunk in chunks:\n",
    "            if chunk['id'] == match['id']:\n",
    "                match_chunks_data.append({\n",
    "                    \"id\" : match['id'],\n",
    "                    \"score\" : match['score'],\n",
    "                    \"text\" : chunk['text']\n",
    "                })\n",
    "                break\n",
    "\n",
    "    return match_chunks_data\n",
    "\n",
    "\n",
    "def create_augmented_prompt(query, match_chunks_data):\n",
    "    # 將檢索到的上下文整合成一個字符串\n",
    "    contexts = \"\"\n",
    "    for i, context in enumerate(match_chunks_data):\n",
    "        contexts += f\"參考資料 {i+1} [相關度: {context['score']:.2f}]:\\n{context['text']}\\n\\n\"\n",
    "    \n",
    "    # 構建結構化提示\n",
    "    prompt = f\"\"\"以下是使用者的查詢問題，請根據提供的參考資料回答。如果參考資料中沒有相關資訊，請明確說明。\n",
    "\n",
    "    使用者查詢: {query}\n",
    "\n",
    "    {contexts}\n",
    "\n",
    "    請根據以上參考資料提供準確、簡潔且有條理的回答。引用資料時請註明來源編號。\"\"\"\n",
    "    \n",
    "    return prompt\n",
    "\n",
    "if __name__ == \"__main__\":\n",
    "    query = '黴菌的生物學特性'\n",
    "    match_chunks_data = query_pincone(query, config)\n",
    "    from pprint import pprint\n",
    "    pprint(match_chunks_data, sort_dicts=False)\n",
    "    print('\\n\\n===================prompt==============')\n",
    "    prompt = create_augmented_prompt(query, match_chunks_data)\n",
    "    print(prompt)"
   ]
  },
  {
   "cell_type": "code",
   "execution_count": 21,
   "metadata": {},
   "outputs": [
    {
     "name": "stdout",
     "output_type": "stream",
     "text": [
      "An error occurred: Error code: 401 - {'error': {'message': 'Incorrect API key provided: sk-proj-********************************************************************************************************************************************************B-cA. You can find your API key at https://platform.openai.com/account/api-keys.', 'type': 'invalid_request_error', 'param': None, 'code': 'invalid_api_key'}}\n"
     ]
    }
   ],
   "source": [
    "# 設定呼叫大型語言模型\n",
    "from langchain_openai import ChatOpenAI\n",
    "\n",
    "# 初始化 OpenAI 模型\n",
    "llm = ChatOpenAI(\n",
    "    model=\"gpt-3.5-turbo\",  # 可以改為 gpt-3.5-turbo 測試\n",
    "    openai_api_key=config[\"chat_gpt_key\"]\n",
    ")\n",
    "\n",
    "def query_llm(prompt):\n",
    "    try:\n",
    "        response = llm.invoke(prompt)\n",
    "        return response.content\n",
    "    except Exception as e:\n",
    "        return f\"An error occurred: {e}\"\n",
    "    \n",
    "if __name__ == \"__main__\":\n",
    "    result = query_llm('我想出去玩')\n",
    "    print(result)"
   ]
  }
 ],
 "metadata": {
  "kernelspec": {
   "display_name": ".venv",
   "language": "python",
   "name": "python3"
  },
  "language_info": {
   "codemirror_mode": {
    "name": "ipython",
    "version": 3
   },
   "file_extension": ".py",
   "mimetype": "text/x-python",
   "name": "python",
   "nbconvert_exporter": "python",
   "pygments_lexer": "ipython3",
   "version": "3.12.7"
  }
 },
 "nbformat": 4,
 "nbformat_minor": 2
}
