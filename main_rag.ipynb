{
 "cells": [
  {
   "cell_type": "code",
   "execution_count": 1,
   "metadata": {},
   "outputs": [
    {
     "name": "stderr",
     "output_type": "stream",
     "text": [
      "c:\\Users\\TMP214\\Desktop\\GitHub\\project_RAG_and_Graph\\.venv\\Lib\\site-packages\\tqdm\\auto.py:21: TqdmWarning: IProgress not found. Please update jupyter and ipywidgets. See https://ipywidgets.readthedocs.io/en/stable/user_install.html\n",
      "  from .autonotebook import tqdm as notebook_tqdm\n"
     ]
    }
   ],
   "source": [
    "# 初始化環境\n",
    "from rag_to_vector_db_pinecone.rag_pipeline.chunks_embeding_2_vector_db import (\n",
    "    jina_embedding,\n",
    ")\n",
    "\n",
    "import json\n",
    "from pinecone import Pinecone\n",
    "from langchain_openai import ChatOpenAI\n",
    "\n",
    "# 載入 env 設定\n",
    "with open('env.json', 'r', encoding='utf-8') as file:\n",
    "    config = json.load(file)\n",
    "\n",
    "# 初始化 Pinecone gRPC 客戶端\n",
    "pc = Pinecone(api_key=config['pinecone_api_key'])\n",
    "index = pc.Index(\"rag-vector-db-test\")\n",
    "\n",
    "# 初始化 OpenAI 模型\n",
    "llm = ChatOpenAI(\n",
    "    model=\"gpt-3.5-turbo\",  # 可以改為 gpt-3.5-turbo 測試\n",
    "    openai_api_key=config[\"chat_gpt_key\"],\n",
    "    temperature=0.6\n",
    ")"
   ]
  },
  {
   "cell_type": "code",
   "execution_count": 3,
   "metadata": {},
   "outputs": [],
   "source": [
    "# 使用者輸入查詢 pinecone\n",
    "def query_pincone(query, config):\n",
    "    query_embedding = jina_embedding(query, config)\n",
    "    results = index.query(\n",
    "        vector=query_embedding,\n",
    "        top_k=3,\n",
    "        include_metadata=True\n",
    "    )\n",
    "\n",
    "    matches = results['matches']\n",
    "    # 用 id 匹配資料庫文字\n",
    "    with open('data/chunks.json', 'r', encoding='utf-8') as file:\n",
    "        chunks = json.load(file)\n",
    "\n",
    "    match_chunks_data = []\n",
    "    for match in matches:\n",
    "        for chunk in chunks:\n",
    "            if chunk['id'] == match['id']:\n",
    "                match_chunks_data.append({\n",
    "                    \"id\" : match['id'],\n",
    "                    \"score\" : match['score'],\n",
    "                    \"text\" : chunk['text']\n",
    "                })\n",
    "                break\n",
    "\n",
    "    return match_chunks_data\n",
    "\n",
    "\n",
    "def create_augmented_prompt(query, match_chunks_data):\n",
    "    # 將檢索到的上下文整合成一個字符串\n",
    "    contexts = \"\"\n",
    "    for i, context in enumerate(match_chunks_data):\n",
    "        contexts += f\"參考資料 {i+1} [相關度: {context['score']:.2f}]:\\n{context['text']}\\n\\n\"\n",
    "    \n",
    "    # 構建結構化提示\n",
    "    prompt = f\"\"\"\n",
    "    以下是使用者的查詢問題，請根據提供的參考資料回答。如果參考資料中沒有相關資訊，請明確說明。\n",
    "\n",
    "    使用者查詢: {query}\n",
    "    請根據以下參考資料提供準確、簡潔且有條理的回答。引用資料時請註明來源編號。\n",
    "\n",
    "    {contexts}\n",
    "    \"\"\"\n",
    "    \n",
    "    return prompt\n",
    "\n",
    "\n",
    "def query_llm(prompt):\n",
    "    try:\n",
    "        response = llm.invoke(prompt)\n",
    "        return response.content\n",
    "    except:\n",
    "        return f\"LLM 錯誤\""
   ]
  },
  {
   "cell_type": "code",
   "execution_count": 4,
   "metadata": {},
   "outputs": [
    {
     "name": "stdout",
     "output_type": "stream",
     "text": [
      "================ RAG result ==========\n",
      "根據提供的參考資料，黴菌相關風險與控制可以從以下幾個方面來進行：\n",
      "\n",
      "1. 黴菌毒素：主要包括黃曲霉毒素、赭曲霉毒素、鐮刀菌毒素、單端孢霉烯族毒素和玉米赤霉烯酮等不同類型的毒素，可以透過色譜分析、免疫分析和生物感測器等方法進行檢測。\n",
      "\n",
      "2. 防控策略：在預防措施方面，可以控制儲存條件、使用防黴包裝和實行農業良好實踐；去除方法可以包括物理方法、化學方法和生物方法。\n",
      "\n",
      "總結來說，了解黴菌的生物學特性、分類系統、研究方法和應用技術對於開發新型生物資源、解決實際生產問題和促進產業升級具有重要意義。合理控制黴菌相關風險，實現可持續利用黴菌資源也是未來研究與應用的重要方向。\n",
      "================ 普通 result ==========\n",
      "黴菌是一種微生物，常見於環境中的空氣、土壤和水中。雖然大部分的黴菌對人體無害，但有些黴菌會釋放出有害物質，對人體健康造成危害。以下是一些與黴菌相關的風險以及相應的控制措施：\n",
      "\n",
      "1. 健康風險：黴菌在潮濕、溫暖的環境中生長迅速，可能導致室內空氣中的黴菌濃度升高，進而引發呼吸道疾病、過敏反應等健康問題。\n",
      "\n",
      "控制措施：保持室內環境通風良好，保持室內乾燥，定期清潔和除去潮濕的地方，避免食物和其他有機物質長時間暴露在潮濕環境中。\n",
      "\n",
      "2. 食品安全風險：某些黴菌會在食物中生長，產生有毒物質，食用後可能導致中毒。\n",
      "\n",
      "控制措施：保持食品清潔衛生，避免食用發霉的食物，注意保存食物的方式，避免食物受潮。\n",
      "\n",
      "3. 製造業風險：在某些製造業中，如食品加工、製藥等，可能存在黴菌污染的風險，影響產品質量和安全。\n",
      "\n",
      "控制措施：建立適當的衛生管理制度，確保生產過程中的衛生條件和控制措施，定期進行衛生檢查和監測。\n",
      "\n",
      "總的來說，要有效控制黴菌相關風險，需要從源頭上加強管理，保持環境清潔和乾燥，注意食品安全，建立適當的衛生管理制度，以確保人體健康和產品安全。\n"
     ]
    }
   ],
   "source": [
    "def main():\n",
    "    # 1. 決定使用者輸入\n",
    "    query = '黴菌相關風險與控制'\n",
    "\n",
    "    # 2. 尋找知識庫\n",
    "    match_chunks_data = query_pincone(query, config)\n",
    "\n",
    "    # 3. 將 知識庫資料結合至 prompt\n",
    "    prompt = create_augmented_prompt(query, match_chunks_data)\n",
    "    \n",
    "    # 4. prompt 引入 LLM\n",
    "    rag_result = query_llm(prompt)\n",
    "    result = query_llm(query)       # 沒有經過 RAG 檢索\n",
    "    \n",
    "    # 5. 對比rag 與沒有 rag 的狀況\n",
    "    print('================ RAG result ==========')\n",
    "    print(rag_result)\n",
    "    \n",
    "    print('================ 普通 result ==========')\n",
    "    print(result)\n",
    "\n",
    "main()"
   ]
  }
 ],
 "metadata": {
  "kernelspec": {
   "display_name": ".venv",
   "language": "python",
   "name": "python3"
  },
  "language_info": {
   "codemirror_mode": {
    "name": "ipython",
    "version": 3
   },
   "file_extension": ".py",
   "mimetype": "text/x-python",
   "name": "python",
   "nbconvert_exporter": "python",
   "pygments_lexer": "ipython3",
   "version": "3.12.7"
  }
 },
 "nbformat": 4,
 "nbformat_minor": 2
}
