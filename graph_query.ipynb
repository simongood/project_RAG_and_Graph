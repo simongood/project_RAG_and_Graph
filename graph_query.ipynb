{
 "cells": [
  {
   "cell_type": "code",
   "execution_count": 1,
   "metadata": {},
   "outputs": [],
   "source": [
    "# 環境初始化\n",
    "import pickle\n",
    "import networkx as nx\n",
    "\n",
    "# 載入知識圖譜\n",
    "with open('data/knowledge_graph.pkl', 'rb') as f:\n",
    "    G = pickle.load(f)"
   ]
  },
  {
   "cell_type": "code",
   "execution_count": 2,
   "metadata": {},
   "outputs": [],
   "source": [
    "# 建立簡單查詢功能\n",
    "def graph_query(G, source):\n",
    "    '''\n",
    "    根據來源節點查詢最鄰近的目標節點與其對應關係\n",
    "    \n",
    "    Args:\n",
    "        G (nx.DiGraph): 知識圖譜\n",
    "        source (str): 來源節點名稱\n",
    "        \n",
    "    Returns:\n",
    "        dict: 包含查詢結果的字典\n",
    "    '''\n",
    "    if source not in G.nodes:\n",
    "        return {\n",
    "            \"status\": \"error\",\n",
    "            \"message\": f\"找不到節點: {source}\"\n",
    "        }\n",
    "    \n",
    "    # 獲取節點屬性\n",
    "    node_attrs = dict(G.nodes[source])\n",
    "    \n",
    "    # 獲取出邊關係（目標節點）\n",
    "    outgoing = []\n",
    "    for _, target, data in G.out_edges(source, data=True):\n",
    "        outgoing.append({\n",
    "            \"target\": target,\n",
    "            \"type\": data.get('type', 'UNKNOWN'),\n",
    "            \"since\": data.get('since', 'UNKNOWN')\n",
    "        })\n",
    "    \n",
    "    # 獲取入邊關係（來源節點）\n",
    "    incoming = []\n",
    "    for src, _, data in G.in_edges(source, data=True):\n",
    "        incoming.append({\n",
    "            \"source\": src,\n",
    "            \"type\": data.get('type', 'UNKNOWN'),\n",
    "            \"since\": data.get('since', 'UNKNOWN')\n",
    "        })\n",
    "    \n",
    "    # 打印結果\n",
    "    print(f\"\\n===== {source} 的關係查詢結果 =====\")\n",
    "    print(f\"節點屬性: {node_attrs}\")\n",
    "    \n",
    "    print(f\"\\n{source} 認識的人 (出邊關係):\")\n",
    "    if outgoing:\n",
    "        for rel in outgoing:\n",
    "            print(f\"  -> {rel['target']} ({rel['type']}, 自 {rel['since']})\")\n",
    "    else:\n",
    "        print(\"  無\")\n",
    "    \n",
    "    print(f\"\\n認識 {source} 的人 (入邊關係):\")\n",
    "    if incoming:\n",
    "        for rel in incoming:\n",
    "            print(f\"  <- {rel['source']} ({rel['type']}, 自 {rel['since']})\")\n",
    "    else:\n",
    "        print(\"  無\")\n",
    "    \n",
    "    # 返回完整結果\n",
    "    return {\n",
    "        \"node\": source,\n",
    "        \"attributes\": node_attrs,\n",
    "        \"outgoing_relationships\": outgoing,\n",
    "        \"incoming_relationships\": incoming\n",
    "    }\n"
   ]
  },
  {
   "cell_type": "code",
   "execution_count": 3,
   "metadata": {},
   "outputs": [
    {
     "name": "stdout",
     "output_type": "stream",
     "text": [
      "\n",
      "===== Alice 的關係查詢結果 =====\n",
      "節點屬性: {'age': 30}\n",
      "\n",
      "Alice 認識的人 (出邊關係):\n",
      "  -> Bob (KNOWS, 自 2020)\n",
      "  -> Charlie (KNOWS, 自 2018)\n",
      "\n",
      "認識 Alice 的人 (入邊關係):\n",
      "  <- Emma (KNOWS, 自 2022)\n"
     ]
    },
    {
     "data": {
      "text/plain": [
       "{'node': 'Alice',\n",
       " 'attributes': {'age': 30},\n",
       " 'outgoing_relationships': [{'target': 'Bob', 'type': 'KNOWS', 'since': 2020},\n",
       "  {'target': 'Charlie', 'type': 'KNOWS', 'since': 2018}],\n",
       " 'incoming_relationships': [{'source': 'Emma',\n",
       "   'type': 'KNOWS',\n",
       "   'since': 2022}]}"
      ]
     },
     "execution_count": 3,
     "metadata": {},
     "output_type": "execute_result"
    }
   ],
   "source": [
    "graph_query(G, \"Alice\")"
   ]
  }
 ],
 "metadata": {
  "kernelspec": {
   "display_name": ".venv",
   "language": "python",
   "name": "python3"
  },
  "language_info": {
   "codemirror_mode": {
    "name": "ipython",
    "version": 3
   },
   "file_extension": ".py",
   "mimetype": "text/x-python",
   "name": "python",
   "nbconvert_exporter": "python",
   "pygments_lexer": "ipython3",
   "version": "3.12.7"
  }
 },
 "nbformat": 4,
 "nbformat_minor": 2
}
